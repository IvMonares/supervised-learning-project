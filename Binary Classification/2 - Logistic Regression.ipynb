{
 "cells": [
  {
   "attachments": {},
   "cell_type": "markdown",
   "metadata": {},
   "source": [
    "# Logistic Regression"
   ]
  },
  {
   "cell_type": "code",
   "execution_count": 1,
   "metadata": {},
   "outputs": [],
   "source": [
    "# Import libraries needed\n",
    "import pandas as pd\n",
    "import matplotlib.pyplot as plt\n",
    "from sklearn.linear_model import LogisticRegression\n",
    "from sklearn.model_selection import train_test_split\n",
    "%matplotlib inline\n",
    "\n",
    "from sklearn.metrics import roc_auc_score\n",
    "from sklearn.metrics import roc_curve\n"
   ]
  },
  {
   "attachments": {},
   "cell_type": "markdown",
   "metadata": {},
   "source": [
    "## Data setup"
   ]
  },
  {
   "cell_type": "code",
   "execution_count": 2,
   "metadata": {},
   "outputs": [],
   "source": [
    "# Read dataset and transform \"Room_Occupancy_Count\" into a binary colum\n",
    "df = pd.read_csv('../Occupancy_Estimation.csv')\n",
    "df[\"Room_Occupancy_Count\"] = [1 if value else 0 for value in df[\"Room_Occupancy_Count\"]]\n",
    "\n",
    "# Create training an testing datasets\n",
    "feature_data = df.drop(columns=[\"Room_Occupancy_Count\", \"Date\", \"Time\"])\n",
    "X_train, X_test, Y_train, Y_test = train_test_split(feature_data, df[\"Room_Occupancy_Count\"], test_size=0.2)\n"
   ]
  },
  {
   "attachments": {},
   "cell_type": "markdown",
   "metadata": {},
   "source": [
    "## Model Creation"
   ]
  },
  {
   "cell_type": "code",
   "execution_count": 3,
   "metadata": {},
   "outputs": [
    {
     "data": {
      "text/plain": [
       "array([[-0.62901858,  0.75691701,  3.16630082, -3.36472627,  0.18566854,\n",
       "        -0.02704136,  0.12673461, -0.19160347,  0.1912221 ,  1.58511348,\n",
       "        -0.04238112, -0.2532515 , -0.00738396,  2.73672516,  1.87752555,\n",
       "         3.67023885]])"
      ]
     },
     "execution_count": 3,
     "metadata": {},
     "output_type": "execute_result"
    }
   ],
   "source": [
    "# Create a Logistic Regression Classifier and print coeficients\n",
    "LogReg = LogisticRegression(random_state=0, solver='liblinear').fit(X_train, Y_train)\n",
    "LogReg.coef_"
   ]
  },
  {
   "attachments": {},
   "cell_type": "markdown",
   "metadata": {},
   "source": [
    "## Model Evaluation"
   ]
  },
  {
   "cell_type": "code",
   "execution_count": 4,
   "metadata": {},
   "outputs": [
    {
     "data": {
      "image/png": "[encoded data removed]",
      "text/plain": [
       "<Figure size 432x288 with 1 Axes>"
      ]
     },
     "metadata": {
      "needs_background": "light"
     },
     "output_type": "display_data"
    }
   ],
   "source": [
    "# Calculate scores for testing dataset\n",
    "scores = LogReg.predict_proba(X_test)\n",
    "fpr, tpr, thresholds = roc_curve(Y_test, scores[:,1])\n",
    "\n",
    "# Calculate AUC score\n",
    "auc = roc_auc_score(Y_test, scores[:,1])\n",
    "\n",
    "# Print ROC plot\n",
    "plt.plot(fpr, tpr,)\n",
    "plt.axis(\"square\")\n",
    "plt.xlabel(\"False Positive Rate\")\n",
    "plt.ylabel(\"True Positive Rate\")\n",
    "plt.legend([\"AUC score: \" + str(round(auc, 5))], loc=\"best\")\n",
    "plt.show()"
   ]
  },
  {
   "attachments": {},
   "cell_type": "markdown",
   "metadata": {},
   "source": [
    "## Results\n",
    "\n",
    "As we can see, utilizing the Logistic Regression classifier we can achieve an accuracy of up to 0.9999 for a binary configuration. Further work may chain up multiple Logistic Regression models to obtain a multi-class prediction for a given datapoint."
   ]
  },
  {
   "cell_type": "markdown",
   "metadata": {},
   "source": []
  }
 ],
 "metadata": {
  "kernelspec": {
   "display_name": "Python 3",
   "language": "python",
   "name": "python3"
  },
  "language_info": {
   "codemirror_mode": {
    "name": "ipython",
    "version": 3
   },
   "file_extension": ".py",
   "mimetype": "text/x-python",
   "name": "python",
   "nbconvert_exporter": "python",
   "pygments_lexer": "ipython3",
   "version": "3.10.10"
  },
  "orig_nbformat": 4
 },
 "nbformat": 4,
 "nbformat_minor": 2
}
