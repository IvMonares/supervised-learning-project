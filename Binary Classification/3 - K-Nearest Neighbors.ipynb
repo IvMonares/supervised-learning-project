{
 "cells": [
  {
   "attachments": {},
   "cell_type": "markdown",
   "metadata": {},
   "source": [
    "# K-Nearest Neighbors\n",
    "\n",
    "K-Nearest Neighbors is suitable for this type of classifications as it allows for high classification accuracy even with complex data distributions. Its capacity to support both binary and muti-class classification makes it a very good candidate for estimating room occupancy.\n"
   ]
  },
  {
   "cell_type": "code",
   "execution_count": 1,
   "metadata": {},
   "outputs": [],
   "source": [
    "# Import libraries needed\n",
    "import numpy as np\n",
    "import pandas as pd\n",
    "import sklearn\n",
    "from sklearn.model_selection import train_test_split\n",
    "import matplotlib.pyplot as plt\n",
    "%matplotlib inline"
   ]
  },
  {
   "attachments": {},
   "cell_type": "markdown",
   "metadata": {},
   "source": [
    "## Data Setup"
   ]
  },
  {
   "cell_type": "code",
   "execution_count": 2,
   "metadata": {},
   "outputs": [],
   "source": [
    "# Read dataset and transform \"Room_Occupancy_Count\" into a binary colum\n",
    "df = pd.read_csv('../Occupancy_Estimation.csv')\n",
    "df[\"Room_Occupancy_Count\"] = [1 if value else 0 for value in df[\"Room_Occupancy_Count\"]]\n",
    "\n",
    "# Create training an testing datasets\n",
    "feature_data = df.drop(columns=[\"Room_Occupancy_Count\", \"Date\", \"Time\"])\n",
    "X_train, X_test, Y_train, Y_test = train_test_split(feature_data, df[\"Room_Occupancy_Count\"], test_size=0.2)\n"
   ]
  },
  {
   "attachments": {},
   "cell_type": "markdown",
   "metadata": {},
   "source": [
    "## Model Creation"
   ]
  },
  {
   "cell_type": "code",
   "execution_count": 3,
   "metadata": {},
   "outputs": [],
   "source": [
    "class KNN:\n",
    "    \"\"\"\n",
    "    Class to store data for regression problems \n",
    "    \"\"\"\n",
    "    def __init__(self, x_train, y_train, K=5):\n",
    "        \"\"\"\n",
    "        Creates a kNN instance\n",
    "\n",
    "        :param x_train: numpy array with shape (n_rows,1)- e.g. [[1,2],[3,4]]\n",
    "        :param y_train: numpy array with shape (n_rows,)- e.g. [1,-1]\n",
    "        :param K: The number of nearest points to consider in classification\n",
    "        \"\"\"\n",
    "        \n",
    "        # Import and build the BallTree on training features \n",
    "        from sklearn.neighbors import BallTree\n",
    "        self.balltree = BallTree(x_train)\n",
    "        \n",
    "        # Cache training labels and parameter K \n",
    "        self.y_train = y_train\n",
    "        self.K = K \n",
    "        \n",
    "        \n",
    "    def majority(self, neighbor_indices, neighbor_distances=None):\n",
    "        \"\"\"\n",
    "        Given indices of nearest neighbors in training set, return the majority label. \n",
    "        Break ties by considering 1 fewer neighbor until a clear winner is found. \n",
    "\n",
    "        :param neighbor_indices: The indices of the K nearest neighbors in self.X_train \n",
    "        :param neighbor_distances: Corresponding distances from query point to K nearest neighbors. \n",
    "        \"\"\"\n",
    "        \n",
    "        while(True):\n",
    "            label_count = {}\n",
    "            \n",
    "            # Get label counts for all datapoint's neighbors\n",
    "            for i in neighbor_indices:\n",
    "                label = self.y_train[i]\n",
    "                if label in label_count:\n",
    "                    label_count[label] += 1\n",
    "                else:\n",
    "                    label_count[label] = 1\n",
    "            \n",
    "            # Get first class with highest count\n",
    "            max_value = max(label_count.values())\n",
    "            max_key = max(label_count, key=label_count.get)\n",
    "            \n",
    "            # Ensure there are no max-count ties\n",
    "            n_modes = 0\n",
    "            for x in label_count:\n",
    "                if(x == max_value):\n",
    "                    n_modes += 1\n",
    "            \n",
    "            # If a tie was detected, remove furthest neighbor and iterate again\n",
    "            if(n_modes > 1):\n",
    "                furthest_neighbor = neighbor_distances.index(max(neighbor_distances))\n",
    "                del neighbor_indices[furthest_neighbor]\n",
    "                del neighbor_distances[furthest_neighbor]\n",
    "            else:\n",
    "                # Otherwise, return class with highest neighbor count\n",
    "                return max_key\n",
    "            \n",
    "        \n",
    "    def classify(self, x):\n",
    "        \"\"\"\n",
    "        Given a query point, return the predicted label \n",
    "        \n",
    "        :param x: a query point stored as an ndarray  \n",
    "        \"\"\"\n",
    "\n",
    "        # Get neighbors and their distances\n",
    "        neighbor_distances, neighbor_indices = self.balltree.query(x.reshape(1, -1), k=self.K)\n",
    "\n",
    "        # Get class with majority representation\n",
    "        return self.majority(neighbor_indices[0], neighbor_distances[0])        \n",
    "        \n",
    "    def predict(self, X):\n",
    "        \"\"\"\n",
    "        Given an ndarray of query points, an ndarray of predictions \n",
    "\n",
    "        :param X: an (m x p) dimension ndarray of points to predict labels for \n",
    "        \"\"\"\n",
    "        return [self.classify(item) for item in X]"
   ]
  },
  {
   "attachments": {},
   "cell_type": "markdown",
   "metadata": {},
   "source": [
    "## Model Evaluation"
   ]
  },
  {
   "cell_type": "code",
   "execution_count": 4,
   "metadata": {},
   "outputs": [
    {
     "data": {
      "image/png": "[encoded data removed]",
      "text/plain": [
       "<Figure size 432x288 with 1 Axes>"
      ]
     },
     "metadata": {
      "needs_background": "light"
     },
     "output_type": "display_data"
    }
   ],
   "source": [
    "# Create a KNN classifier\n",
    "knn = KNN(X_train.values, Y_train.values, K=3)\n",
    "\n",
    "# Get prediction for testing dataset\n",
    "prediction = knn.predict(X_test.values)\n",
    "\n",
    "# Calculate confusion matrix\n",
    "c_matrix = sklearn.metrics.confusion_matrix(Y_test.values, prediction)\n",
    "\n",
    "# Plot confusion Matrix\n",
    "fig, ax = plt.subplots()\n",
    "ax.matshow(c_matrix, cmap='ocean')\n",
    "\n",
    "# Print classification counts within matrix boxes\n",
    "for i in range(len(c_matrix)):\n",
    "   for j in range(len(c_matrix[0])):\n",
    "      c = c_matrix[j, i]\n",
    "      ax.text(i, j, str(c), va='center', ha='center')\n",
    "\n",
    "# Set plot axis titles and show plot\n",
    "ax.set_xlabel('Predicted Label')\n",
    "ax.set_ylabel('True Label')\n",
    "ax.set_title('Classification Counts')\n",
    "plt.show()"
   ]
  },
  {
   "cell_type": "code",
   "execution_count": 5,
   "metadata": {},
   "outputs": [
    {
     "data": {
      "image/png": "[encoded data removed]",
      "text/plain": [
       "<Figure size 432x288 with 1 Axes>"
      ]
     },
     "metadata": {
      "needs_background": "light"
     },
     "output_type": "display_data"
    }
   ],
   "source": [
    "# Create transformed matrix for classification proportions\n",
    "transformed = np.array( [[1.0]*2]*2)\n",
    "\n",
    "# Store classification proportions\n",
    "for i in range(len(c_matrix)):\n",
    "   for j in range(len(c_matrix[0])):\n",
    "      transformed[j, i] = c_matrix[j, i] / c_matrix[i].sum()\n",
    "\n",
    "# Plot confusion Matrix\n",
    "fig, ax = plt.subplots()\n",
    "ax.matshow(transformed, cmap='ocean')\n",
    "\n",
    "# Print classification counts within matrix boxes\n",
    "for i in range(len(transformed)):\n",
    "   for j in range(len(transformed[0])):\n",
    "      c = round(100* transformed[j, i],2)\n",
    "      ax.text(i, j, str(c) + \"%\", va='center', ha='center')\n",
    "\n",
    "# Set plot axis titles and show plot\n",
    "ax.set_xlabel('Predicted Label')\n",
    "ax.set_ylabel('True Label')\n",
    "ax.set_title('Classification Counts')\n",
    "plt.show()"
   ]
  },
  {
   "attachments": {},
   "cell_type": "markdown",
   "metadata": {},
   "source": []
  },
  {
   "attachments": {},
   "cell_type": "markdown",
   "metadata": {},
   "source": [
    "## Results\n",
    "\n",
    "As we can see, if the problem is transformed into a binary \"Occupied\" vs \"Empty\" scenario, utilizing the KNN classifier we can achieve an  accuracy of 1.000."
   ]
  },
  {
   "cell_type": "markdown",
   "metadata": {},
   "source": []
  }
 ],
 "metadata": {
  "kernelspec": {
   "display_name": "Python 3",
   "language": "python",
   "name": "python3"
  },
  "language_info": {
   "codemirror_mode": {
    "name": "ipython",
    "version": 3
   },
   "file_extension": ".py",
   "mimetype": "text/x-python",
   "name": "python",
   "nbconvert_exporter": "python",
   "pygments_lexer": "ipython3",
   "version": "3.10.10"
  },
  "orig_nbformat": 4
 },
 "nbformat": 4,
 "nbformat_minor": 2
}
