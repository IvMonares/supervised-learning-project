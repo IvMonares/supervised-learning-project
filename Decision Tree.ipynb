{
 "cells": [
  {
   "attachments": {},
   "cell_type": "markdown",
   "metadata": {},
   "source": [
    "# K-Nearest Neighbors"
   ]
  },
  {
   "cell_type": "code",
   "execution_count": 18,
   "metadata": {},
   "outputs": [],
   "source": [
    "import numpy as np\n",
    "import pandas as pd\n",
    "import sklearn\n",
    "from sklearn.linear_model import LogisticRegression\n",
    "from sklearn.tree import DecisionTreeClassifier, plot_tree\n",
    "from sklearn.model_selection import train_test_split\n",
    "import matplotlib.pyplot as plt\n",
    "%matplotlib inline\n",
    "\n",
    "from sklearn.metrics import roc_auc_score\n",
    "from sklearn.metrics import roc_curve"
   ]
  },
  {
   "cell_type": "code",
   "execution_count": 2,
   "metadata": {},
   "outputs": [],
   "source": [
    "df = pd.read_csv('./Occupancy_Estimation.csv')\n",
    "feature_data = df.drop(columns=[\"Room_Occupancy_Count\", \"Date\", \"Time\"])\n",
    "X_train, X_test, Y_train, Y_test = train_test_split(feature_data, df[\"Room_Occupancy_Count\"], test_size=0.2)"
   ]
  },
  {
   "cell_type": "code",
   "execution_count": 3,
   "metadata": {},
   "outputs": [],
   "source": [
    "def build_dt(data_X, data_y, max_depth = None, max_leaf_nodes =None):\n",
    "    '''\n",
    "    This function does the following:\n",
    "    1. Builds the decision tree classifier using sklearn \n",
    "    2. Fits it to the provided data.\n",
    "    \n",
    "    \n",
    "    Arguments\n",
    "        data_X - a np.ndarray\n",
    "        data_y - np.ndarray\n",
    "        max_depth - None if unrestricted, otherwise an integer for the maximum\n",
    "                depth the tree can reach.\n",
    "    \n",
    "    Returns:\n",
    "        A trained DecisionTreeClassifier\n",
    "    '''\n",
    "    \n",
    "    # your code here\n",
    "    \n",
    "    return DecisionTreeClassifier(max_depth=max_depth, max_leaf_nodes=max_leaf_nodes).fit(data_X, data_y)\n",
    "\n",
    "def calculate_precision(y_true, y_pred, pos_label_value=1.0):\n",
    "    '''\n",
    "    This function accepts the labels and the predictions, then\n",
    "    calculates precision for a binary classifier.\n",
    "    \n",
    "    Args\n",
    "        y_true: np.ndarray\n",
    "        y_pred: np.ndarray\n",
    "        \n",
    "        pos_label_value: (float) the number which represents the postiive\n",
    "        label in the y_true and y_pred arrays. Other numbers will be taken\n",
    "        to be the non-positive class for the binary classifier.\n",
    "    \n",
    "    Returns precision as a floating point number between 0.0 and 1.0\n",
    "    '''\n",
    "    \n",
    "    \n",
    "    # your code here\n",
    "    \n",
    "    true_p = (y_true + y_pred) / 2\n",
    "    true_p = true_p[true_p == 1].sum()\n",
    "    pred_p = y_pred[y_pred == 1].sum()\n",
    "    \n",
    "    return true_p / pred_p\n",
    "\n",
    "def calculate_recall(y_true, y_pred, pos_label_value=1.0):\n",
    "    '''\n",
    "    This function accepts the labels and the predictions, then\n",
    "    calculates recall for a binary classifier.\n",
    "    \n",
    "    Args\n",
    "        y_true: np.ndarray\n",
    "        y_pred: np.ndarray\n",
    "        \n",
    "        pos_label_value: (float) the number which represents the postiive\n",
    "        label in the y_true and y_pred arrays. Other numbers will be taken\n",
    "        to be the non-positive class for the binary classifier.\n",
    "    \n",
    "    Returns precision as a floating point number between 0.0 and 1.0\n",
    "    '''\n",
    "    \n",
    "    # your code here\n",
    "    true_p = (y_true + y_pred) / 2\n",
    "    true_p = true_p[true_p == 1].sum()\n",
    "    real_p = y_true[y_true == 1].sum()\n",
    "    \n",
    "    return true_p / real_p\n"
   ]
  },
  {
   "cell_type": "code",
   "execution_count": 32,
   "metadata": {},
   "outputs": [
    {
     "name": "stdout",
     "output_type": "stream",
     "text": [
      "Precision: 1.0\n",
      "Recall: 0.9761904761904762\n",
      "Tree depth: 4\n"
     ]
    }
   ],
   "source": [
    "model_1 = build_dt(X_train, Y_train, max_depth=4)\n",
    "predictions = model_1.predict(X_test)\n",
    "\n",
    "print(\"Precision: \" + str(calculate_precision(Y_test, predictions)))\n",
    "print(\"Recall: \" + str(calculate_recall(Y_test, predictions)))\n",
    "print(\"Tree depth: \" + str(model_1.get_depth()))"
   ]
  },
  {
   "cell_type": "code",
   "execution_count": 64,
   "metadata": {},
   "outputs": [],
   "source": [
    "# https://scikit-learn.org/stable/auto_examples/tree/plot_unveil_tree_structure.html\n",
    "def get_tree_description(tree, features):\n",
    "    n_nodes = tree.tree_.node_count\n",
    "    children_left = tree.tree_.children_left\n",
    "    children_right = tree.tree_.children_right\n",
    "    feature = tree.tree_.feature\n",
    "    threshold = tree.tree_.threshold\n",
    "    \n",
    "    labels = []\n",
    "    for value in tree.tree_.value:\n",
    "        labels.append(tree.classes_[np.argmax(value)])\n",
    "\n",
    "    node_depth = np.zeros(shape=n_nodes, dtype=np.int64)\n",
    "    is_leaves = np.zeros(shape=n_nodes, dtype=bool)\n",
    "    stack = [(0, 0)]  # start with the root node id (0) and its depth (0)\n",
    "    while len(stack) > 0:\n",
    "        # `pop` ensures each node is only visited once\n",
    "        node_id, depth = stack.pop()\n",
    "        node_depth[node_id] = depth\n",
    "\n",
    "        # If the left and right child of a node is not the same we have a split\n",
    "        # node\n",
    "        is_split_node = children_left[node_id] != children_right[node_id]\n",
    "        # If a split node, append left and right children and depth to `stack`\n",
    "        # so we can loop through them\n",
    "        if is_split_node:\n",
    "            stack.append((children_left[node_id], depth + 1))\n",
    "            stack.append((children_right[node_id], depth + 1))\n",
    "        else:\n",
    "            is_leaves[node_id] = True\n",
    "\n",
    "    print(\n",
    "        \"The binary tree structure has {n} nodes and has \"\n",
    "        \"the following tree structure:\\n\".format(n=n_nodes)\n",
    "    )\n",
    "    for i in range(n_nodes):\n",
    "        if is_leaves[i]:\n",
    "            print(\n",
    "                \"{space}node={node} is a leaf node with label={label}.\".format(\n",
    "                    space=node_depth[i] * \"\\t\", node=i, label=labels[i]\n",
    "                )\n",
    "            )\n",
    "        else:\n",
    "            print(\n",
    "                \"{space}node={node} is a split node: \"\n",
    "                \"go to node {left} if {feature} <= {threshold} \"\n",
    "                \"else to node {right}.\".format(\n",
    "                    space=node_depth[i] * \"\\t\",\n",
    "                    node=i,\n",
    "                    left=children_left[i],\n",
    "                    feature=features[feature[i]],\n",
    "                    threshold=threshold[i],\n",
    "                    right=children_right[i],\n",
    "                )\n",
    "            )\n",
    "    plot_tree(tree)\n",
    "    plt.show()"
   ]
  },
  {
   "cell_type": "code",
   "execution_count": 65,
   "metadata": {},
   "outputs": [
    {
     "name": "stdout",
     "output_type": "stream",
     "text": [
      "The binary tree structure has 27 nodes and has the following tree structure:\n",
      "\n",
      "node=0 is a split node: go to node 1 if S1_Light <= 92.0 else to node 14.\n",
      "\tnode=1 is a split node: go to node 2 if S5_CO2_Slope <= 0.45576922595500946 else to node 9.\n",
      "\t\tnode=2 is a split node: go to node 3 if S7_PIR <= 0.5 else to node 6.\n",
      "\t\t\tnode=3 is a split node: go to node 4 if S3_Sound <= 0.6599999964237213 else to node 5.\n",
      "\t\t\t\tnode=4 is a leaf node with label=0.\n",
      "\t\t\t\tnode=5 is a leaf node with label=3.\n",
      "\t\t\tnode=6 is a split node: go to node 7 if S4_Temp <= 26.0 else to node 8.\n",
      "\t\t\t\tnode=7 is a leaf node with label=3.\n",
      "\t\t\t\tnode=8 is a leaf node with label=0.\n",
      "\t\tnode=9 is a split node: go to node 10 if S1_Temp <= 25.90999984741211 else to node 11.\n",
      "\t\t\tnode=10 is a leaf node with label=3.\n",
      "\t\t\tnode=11 is a split node: go to node 12 if S2_Temp <= 27.34500026702881 else to node 13.\n",
      "\t\t\t\tnode=12 is a leaf node with label=0.\n",
      "\t\t\t\tnode=13 is a leaf node with label=3.\n",
      "\tnode=14 is a split node: go to node 15 if S3_Light <= 72.5 else to node 20.\n",
      "\t\tnode=15 is a split node: go to node 16 if S1_Light <= 132.5 else to node 17.\n",
      "\t\t\tnode=16 is a leaf node with label=1.\n",
      "\t\t\tnode=17 is a split node: go to node 18 if S3_Sound <= 0.6349999904632568 else to node 19.\n",
      "\t\t\t\tnode=18 is a leaf node with label=2.\n",
      "\t\t\t\tnode=19 is a leaf node with label=3.\n",
      "\t\tnode=20 is a split node: go to node 21 if S5_CO2 <= 757.5 else to node 24.\n",
      "\t\t\tnode=21 is a split node: go to node 22 if S2_Temp <= 25.40999984741211 else to node 23.\n",
      "\t\t\t\tnode=22 is a leaf node with label=1.\n",
      "\t\t\t\tnode=23 is a leaf node with label=2.\n",
      "\t\t\tnode=24 is a split node: go to node 25 if S2_Light <= 233.5 else to node 26.\n",
      "\t\t\t\tnode=25 is a leaf node with label=2.\n",
      "\t\t\t\tnode=26 is a leaf node with label=3.\n"
     ]
    },
    {
     "data": {
      "image/png": "[encoded data removed]",
      "text/plain": [
       "<Figure size 432x288 with 1 Axes>"
      ]
     },
     "metadata": {
      "needs_background": "light"
     },
     "output_type": "display_data"
    }
   ],
   "source": [
    "get_tree_description(model_1, feature_data.columns)"
   ]
  },
  {
   "cell_type": "code",
   "execution_count": 66,
   "metadata": {},
   "outputs": [
    {
     "name": "stdout",
     "output_type": "stream",
     "text": [
      "Number of nodes in the last tree is: 1 with ccp_alpha: 0.18277055035351406\n"
     ]
    },
    {
     "data": {
      "image/png": "[encoded data removed]",
      "text/plain": [
       "<Figure size 432x288 with 1 Axes>"
      ]
     },
     "metadata": {
      "needs_background": "light"
     },
     "output_type": "display_data"
    }
   ],
   "source": [
    "dt = build_dt(X_train, Y_train)\n",
    "\n",
    "path = dt.cost_complexity_pruning_path(X_train,Y_train) #post pruning\n",
    "ccp_alphas, impurities = path.ccp_alphas, path.impurities\n",
    "\n",
    "clfs = [] # VECTOR CONTAINING CLASSIFIERS FOR DIFFERENT ALPHAS\n",
    "# TODO: iterate over ccp_alpha values \n",
    "# your code here\n",
    "clfs = [DecisionTreeClassifier(ccp_alpha=alpha).fit(X_train, Y_train) for alpha in ccp_alphas]\n",
    "    \n",
    "print(\"Number of nodes in the last tree is: {} with ccp_alpha: {}\".format(\n",
    "      clfs[-1].tree_.node_count, ccp_alphas[-1]))\n",
    "\n",
    "train_scores = []\n",
    "test_scores = []\n",
    "\n",
    "# your code here\n",
    "for clf in clfs:\n",
    "    train_scores.append(clf.score(X_train, Y_train))\n",
    "    test_scores.append(clf.score(X_test, Y_test))\n",
    "\n",
    "fig, ax = plt.subplots()\n",
    "ax.set_xlabel(\"alpha\")\n",
    "ax.set_ylabel(\"accuracy\")\n",
    "ax.set_title(\"accuracy vs alpha for training and testing sets\")\n",
    "ax.plot(ccp_alphas, train_scores, marker='o', label=\"train\",\n",
    "        drawstyle=\"steps-post\")\n",
    "ax.plot(ccp_alphas, test_scores, marker='o', label=\"test\",\n",
    "        drawstyle=\"steps-post\")\n",
    "ax.legend()\n",
    "plt.show() \n",
    "\n"
   ]
  },
  {
   "cell_type": "code",
   "execution_count": 67,
   "metadata": {},
   "outputs": [
    {
     "name": "stdout",
     "output_type": "stream",
     "text": [
      "[1.0, 0.9997531778353697, 0.9992595335061089, 0.999382944588424, 0.9991361224237937, 0.9990127113414785, 0.9988893002591632, 0.998765889176848, 0.9986424780945329, 0.9985190670122177, 0.9982722448475874, 0.9980254226829569, 0.9977786005183266, 0.9975317783536961, 0.9972849561890658, 0.9970381340244354, 0.996791311859805, 0.9965444896951746, 0.9961742564482291, 0.994816734542762, 0.9943230902135012, 0.9932123904726644, 0.991608046402567, 0.9895100580032087, 0.9871652474392201, 0.9824756263112427, 0.9738368505491793, 0.9307663828211773, 0.9186720967542885, 0.88424040478835, 0.81031716648155]\n",
      "[0.9945705824284304, 0.9921026653504442, 0.9950641658440277, 0.9925962487660415, 0.9921026653504442, 0.9925962487660415, 0.9940769990128332, 0.9925962487660415, 0.9925962487660415, 0.9930898321816387, 0.993583415597236, 0.993583415597236, 0.9921026653504442, 0.9925962487660415, 0.9925962487660415, 0.9925962487660415, 0.9921026653504442, 0.991609081934847, 0.9891411648568608, 0.9891411648568608, 0.9891411648568608, 0.9901283316880553, 0.9886475814412635, 0.9871668311944719, 0.983218163869694, 0.9802566633761106, 0.9733464955577492, 0.9358341559723593, 0.9259624876604146, 0.8938795656465943, 0.8203356367226061]\n"
     ]
    }
   ],
   "source": [
    "\n",
    "print(train_scores)\n",
    "print(test_scores)"
   ]
  },
  {
   "cell_type": "code",
   "execution_count": 69,
   "metadata": {},
   "outputs": [
    {
     "name": "stdout",
     "output_type": "stream",
     "text": [
      "0.9824756263112427\n",
      "0.9802566633761106\n",
      "\n",
      "The binary tree structure has 13 nodes and has the following tree structure:\n",
      "\n",
      "node=0 is a split node: go to node 1 if S1_Light <= 92.0 else to node 4.\n",
      "\tnode=1 is a split node: go to node 2 if S5_CO2_Slope <= 0.45576922595500946 else to node 3.\n",
      "\t\tnode=2 is a leaf node with label=0.\n",
      "\t\tnode=3 is a leaf node with label=3.\n",
      "\tnode=4 is a split node: go to node 5 if S3_Light <= 72.5 else to node 8.\n",
      "\t\tnode=5 is a split node: go to node 6 if S1_Light <= 132.5 else to node 7.\n",
      "\t\t\tnode=6 is a leaf node with label=1.\n",
      "\t\t\tnode=7 is a leaf node with label=2.\n",
      "\t\tnode=8 is a split node: go to node 9 if S5_CO2 <= 757.5 else to node 10.\n",
      "\t\t\tnode=9 is a leaf node with label=2.\n",
      "\t\t\tnode=10 is a split node: go to node 11 if S2_Light <= 233.5 else to node 12.\n",
      "\t\t\t\tnode=11 is a leaf node with label=2.\n",
      "\t\t\t\tnode=12 is a leaf node with label=3.\n"
     ]
    },
    {
     "data": {
      "image/png": "[encoded data removed]",
      "text/plain": [
       "<Figure size 432x288 with 1 Axes>"
      ]
     },
     "metadata": {
      "needs_background": "light"
     },
     "output_type": "display_data"
    }
   ],
   "source": [
    "index = -6\n",
    "\n",
    "print(train_scores[index])\n",
    "print(test_scores[index])\n",
    "print()\n",
    "get_tree_description(clfs[index], feature_data.columns)"
   ]
  }
 ],
 "metadata": {
  "kernelspec": {
   "display_name": "Python 3",
   "language": "python",
   "name": "python3"
  },
  "language_info": {
   "codemirror_mode": {
    "name": "ipython",
    "version": 3
   },
   "file_extension": ".py",
   "mimetype": "text/x-python",
   "name": "python",
   "nbconvert_exporter": "python",
   "pygments_lexer": "ipython3",
   "version": "3.10.10"
  },
  "orig_nbformat": 4
 },
 "nbformat": 4,
 "nbformat_minor": 2
}
