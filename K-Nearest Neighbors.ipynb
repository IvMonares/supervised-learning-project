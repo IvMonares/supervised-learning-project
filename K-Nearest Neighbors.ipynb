{
 "cells": [
  {
   "attachments": {},
   "cell_type": "markdown",
   "metadata": {},
   "source": [
    "# K-Nearest Neighbors"
   ]
  },
  {
   "cell_type": "code",
   "execution_count": 9,
   "metadata": {},
   "outputs": [],
   "source": [
    "import numpy as np\n",
    "import pandas as pd\n",
    "import sklearn\n",
    "from sklearn.linear_model import LogisticRegression\n",
    "from sklearn.tree import DecisionTreeClassifier\n",
    "from sklearn.model_selection import train_test_split\n",
    "import matplotlib.pyplot as plt\n",
    "%matplotlib inline\n",
    "\n",
    "from sklearn.metrics import roc_auc_score\n",
    "from sklearn.metrics import roc_curve"
   ]
  },
  {
   "cell_type": "code",
   "execution_count": 20,
   "metadata": {},
   "outputs": [
    {
     "name": "stdout",
     "output_type": "stream",
     "text": [
      "[0 3 0 ... 0 0 0]\n"
     ]
    }
   ],
   "source": [
    "df = pd.read_csv('./Occupancy_Estimation.csv')\n",
    "feature_data = df.drop(columns=[\"Room_Occupancy_Count\", \"Date\", \"Time\"])\n",
    "X_train, X_test, Y_train, Y_test = train_test_split(feature_data, df[\"Room_Occupancy_Count\"], test_size=0.2)"
   ]
  },
  {
   "cell_type": "code",
   "execution_count": 22,
   "metadata": {},
   "outputs": [],
   "source": [
    "class KNN:\n",
    "    \"\"\"\n",
    "    Class to store data for regression problems \n",
    "    \"\"\"\n",
    "    def __init__(self, x_train, y_train, K=5):\n",
    "        \"\"\"\n",
    "        Creates a kNN instance\n",
    "\n",
    "        :param x_train: numpy array with shape (n_rows,1)- e.g. [[1,2],[3,4]]\n",
    "        :param y_train: numpy array with shape (n_rows,)- e.g. [1,-1]\n",
    "        :param K: The number of nearest points to consider in classification\n",
    "        \"\"\"\n",
    "        \n",
    "        # Import and build the BallTree on training features \n",
    "        from sklearn.neighbors import BallTree\n",
    "        self.balltree = BallTree(x_train)\n",
    "        \n",
    "        # Cache training labels and parameter K \n",
    "        self.y_train = y_train\n",
    "        self.K = K \n",
    "        \n",
    "        \n",
    "    def majority(self, neighbor_indices, neighbor_distances=None):\n",
    "        \"\"\"\n",
    "        Given indices of nearest neighbors in training set, return the majority label. \n",
    "        Break ties by considering 1 fewer neighbor until a clear winner is found. \n",
    "\n",
    "        :param neighbor_indices: The indices of the K nearest neighbors in self.X_train \n",
    "        :param neighbor_distances: Corresponding distances from query point to K nearest neighbors. \n",
    "        \"\"\"\n",
    "        \n",
    "        while(True):\n",
    "            label_count = {}\n",
    "            \n",
    "            # TODO - Review optimization\n",
    "            for i in neighbor_indices:\n",
    "                label = self.y_train[i]\n",
    "                if label in label_count:\n",
    "                    label_count[label] += 1\n",
    "                else:\n",
    "                    label_count[label] = 1\n",
    "            \n",
    "            max_value = max(label_count.values())\n",
    "            max_key = max(label_count, key=label_count.get)\n",
    "            \n",
    "            # TODO - Review optimization\n",
    "            n_modes = 0\n",
    "            for x in label_count:\n",
    "                if(x == max_value):\n",
    "                    n_modes += 1\n",
    "            \n",
    "            if(n_modes > 1):\n",
    "                furthest_neighbor = neighbor_distances.index(max(neighbor_distances))\n",
    "                del neighbor_indices[furthest_neighbor]\n",
    "                del neighbor_distances[furthest_neighbor]\n",
    "            else:\n",
    "                return max_key\n",
    "            \n",
    "        \n",
    "    def classify(self, x):\n",
    "        \"\"\"\n",
    "        Given a query point, return the predicted label \n",
    "        \n",
    "        :param x: a query point stored as an ndarray  \n",
    "        \"\"\"\n",
    "        neighbor_distances, neighbor_indices = self.balltree.query(x.reshape(1, -1), k=self.K)\n",
    "        return self.majority(neighbor_indices[0], neighbor_distances[0])        \n",
    "        \n",
    "    def predict(self, X):\n",
    "        \"\"\"\n",
    "        Given an ndarray of query points, return yhat, an ndarray of predictions \n",
    "\n",
    "        :param X: an (m x p) dimension ndarray of points to predict labels for \n",
    "        \"\"\"\n",
    "        # your code here\n",
    "        \n",
    "        yhat = []\n",
    "        \n",
    "        for item in X:\n",
    "            yhat.append(self.classify(item))\n",
    "            \n",
    "        return yhat"
   ]
  },
  {
   "cell_type": "code",
   "execution_count": 29,
   "metadata": {},
   "outputs": [
    {
     "name": "stdout",
     "output_type": "stream",
     "text": [
      "[0.9993823347745522, 0.9893617021276596, 0.9743589743589743, 0.9936305732484076]\n",
      "[[1618    1    0    0]\n",
      " [   0   93    1    0]\n",
      " [   0    1  152    3]\n",
      " [   0    0    1  156]]\n"
     ]
    }
   ],
   "source": [
    "knn = KNN(X_train.values, Y_train.values, K=3)\n",
    "val_yhat = knn.predict(X_test.values)\n",
    "c_matrix = sklearn.metrics.confusion_matrix(Y_test.values, val_yhat)\n",
    "\n",
    "acc = []\n",
    "for i in range(len(c_matrix)):\n",
    "    acc.append(c_matrix[i,i]/c_matrix[i].sum()) \n",
    "print(acc)\n",
    "print(c_matrix)\n"
   ]
  },
  {
   "attachments": {},
   "cell_type": "markdown",
   "metadata": {},
   "source": [
    "The values most confused are:"
   ]
  },
  {
   "cell_type": "code",
   "execution_count": null,
   "metadata": {},
   "outputs": [],
   "source": []
  }
 ],
 "metadata": {
  "kernelspec": {
   "display_name": "Python 3",
   "language": "python",
   "name": "python3"
  },
  "language_info": {
   "codemirror_mode": {
    "name": "ipython",
    "version": 3
   },
   "file_extension": ".py",
   "mimetype": "text/x-python",
   "name": "python",
   "nbconvert_exporter": "python",
   "pygments_lexer": "ipython3",
   "version": "3.10.10"
  },
  "orig_nbformat": 4
 },
 "nbformat": 4,
 "nbformat_minor": 2
}
